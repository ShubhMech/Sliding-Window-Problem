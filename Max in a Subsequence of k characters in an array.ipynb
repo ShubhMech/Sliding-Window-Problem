{
 "cells": [
  {
   "cell_type": "code",
   "execution_count": 1,
   "id": "039ca401",
   "metadata": {},
   "outputs": [],
   "source": [
    "arr= [\"a\",\"b\"]"
   ]
  },
  {
   "cell_type": "code",
   "execution_count": 2,
   "id": "cd46bcab",
   "metadata": {},
   "outputs": [
    {
     "data": {
      "text/plain": [
       "['a', 'b']"
      ]
     },
     "execution_count": 2,
     "metadata": {},
     "output_type": "execute_result"
    }
   ],
   "source": [
    "arr"
   ]
  },
  {
   "cell_type": "code",
   "execution_count": 3,
   "id": "db044d95",
   "metadata": {},
   "outputs": [],
   "source": [
    "pattern = []"
   ]
  },
  {
   "cell_type": "code",
   "execution_count": 115,
   "id": "e085c86d",
   "metadata": {},
   "outputs": [],
   "source": [
    "# def backtracking(arr,index):\n",
    "#     print(index)\n",
    "#     if index == len(arr):\n",
    "#         print(\"\".join(arr), len(arr))\n",
    "#         return\n",
    "#     elif index < len(arr):\n",
    "#         arr.insert(index,\" \")\n",
    "# #         print (arr)\n",
    "#         backtracking(arr,index+2)\n",
    "        \n",
    "#         arr.pop(index)\n",
    "#         backtracking(arr,index+1)"
   ]
  },
  {
   "cell_type": "code",
   "execution_count": 116,
   "id": "703a873f",
   "metadata": {},
   "outputs": [],
   "source": [
    "# backtracking(arr, 1)"
   ]
  },
  {
   "cell_type": "code",
   "execution_count": 117,
   "id": "e7214928",
   "metadata": {},
   "outputs": [
    {
     "data": {
      "text/plain": [
       "3"
      ]
     },
     "execution_count": 117,
     "metadata": {},
     "output_type": "execute_result"
    }
   ],
   "source": [
    "len(arr)"
   ]
  },
  {
   "cell_type": "code",
   "execution_count": 123,
   "id": "c8e2228d",
   "metadata": {},
   "outputs": [],
   "source": [
    "arr = [\"a\",\"b\",\"c\",\"d\",\"e\",\"f\"]"
   ]
  },
  {
   "cell_type": "code",
   "execution_count": 124,
   "id": "fcde6225",
   "metadata": {},
   "outputs": [],
   "source": [
    "# def backtrack(arr,index,ans):\n",
    "    \n",
    "#     if index < len(arr):\n",
    "#         ans.append(arr[index])\n",
    "#         backtrack(arr,index+1,ans)\n",
    "        \n",
    "#         ans[index] = (arr[index].upper())\n",
    "#         backtrack(arr,index+1,ans)\n",
    "        \n",
    "        \n",
    "    \n",
    "    \n",
    "\n",
    "    \n",
    "#     else:\n",
    "#         print(arr)\n",
    "#         return\n",
    "    "
   ]
  },
  {
   "cell_type": "code",
   "execution_count": 125,
   "id": "77757cfd",
   "metadata": {},
   "outputs": [],
   "source": [
    "# \"s\".upper()"
   ]
  },
  {
   "cell_type": "code",
   "execution_count": 126,
   "id": "4bc6d2e0",
   "metadata": {},
   "outputs": [],
   "source": [
    "# backtrack(arr,0,[])"
   ]
  },
  {
   "cell_type": "code",
   "execution_count": 149,
   "id": "24e13baa",
   "metadata": {},
   "outputs": [],
   "source": [
    "arr= [\"a\",1,\"b\",2,\"C\"]"
   ]
  },
  {
   "cell_type": "code",
   "execution_count": 152,
   "id": "d2bc9e78",
   "metadata": {},
   "outputs": [],
   "source": [
    "def permutation(arr,ind,ans=[0]*len(arr)):\n",
    "    if ind == len(arr):\n",
    "        print(ans)\n",
    "        return\n",
    "    \n",
    "    elif ind< len(arr):\n",
    "\n",
    "        ans[ind]= (arr[ind])\n",
    "        permutation(arr,ind+1,ans)\n",
    "        \n",
    "        if type(arr[ind]) == str:\n",
    "        \n",
    "            ans[ind] = (arr[ind].upper())\n",
    "            permutation(arr,ind+1,ans)\n",
    "    else:\n",
    "        return\n",
    "\n",
    "        "
   ]
  },
  {
   "cell_type": "code",
   "execution_count": 153,
   "id": "750f5d4b",
   "metadata": {},
   "outputs": [
    {
     "name": "stdout",
     "output_type": "stream",
     "text": [
      "['a', 1, 'b', 2, 'C']\n",
      "['a', 1, 'b', 2, 'C']\n",
      "['a', 1, 'B', 2, 'C']\n",
      "['a', 1, 'B', 2, 'C']\n",
      "['A', 1, 'b', 2, 'C']\n",
      "['A', 1, 'b', 2, 'C']\n",
      "['A', 1, 'B', 2, 'C']\n",
      "['A', 1, 'B', 2, 'C']\n"
     ]
    }
   ],
   "source": [
    "permutation(arr,0)"
   ]
  },
  {
   "cell_type": "code",
   "execution_count": null,
   "id": "ce6e28e0",
   "metadata": {},
   "outputs": [],
   "source": []
  },
  {
   "cell_type": "code",
   "execution_count": 162,
   "id": "d48b368f",
   "metadata": {},
   "outputs": [],
   "source": [
    "def permutation(arr,ind,ans=[0]*len(arr)):\n",
    "    if ind == len(arr):\n",
    "        print(ans)\n",
    "        return\n",
    "    \n",
    "    elif ind< len(arr):\n",
    "\n",
    "        ans[ind]= (arr[ind])\n",
    "        permutation(arr,ind+1,ans)\n",
    "        \n",
    "        if type(arr[ind]) == str and arr[ind].upper() == arr[ind]:\n",
    "        \n",
    "            ans[ind] = (arr[ind].lower())\n",
    "            permutation(arr,ind+1,ans)\n",
    "        \n",
    "        elif type(arr[ind]) == str and arr[ind].upper() != arr[ind]:\n",
    "            ans[ind] = (arr[ind].upper())\n",
    "            permutation(arr,ind+1,ans)\n",
    "    else:\n",
    "        return\n",
    "\n",
    "    \n",
    "\n",
    "\n",
    "#         ans[ind]= (arr[ind])\n",
    "#         permutation(arr,ind+1,ans)\n",
    "        \n",
    "#         if type(arr[ind]) == str:\n",
    "        \n",
    "#             ans[ind] = (arr[ind].upper())\n",
    "#             permutation(arr,ind+1,ans)\n",
    "#     else:\n",
    "#         return\n",
    "\n",
    "        "
   ]
  },
  {
   "cell_type": "code",
   "execution_count": 163,
   "id": "2c984be7",
   "metadata": {},
   "outputs": [
    {
     "data": {
      "text/plain": [
       "['a', 1, 'b', 2, 'C']"
      ]
     },
     "execution_count": 163,
     "metadata": {},
     "output_type": "execute_result"
    }
   ],
   "source": [
    "arr"
   ]
  },
  {
   "cell_type": "code",
   "execution_count": 164,
   "id": "f413a848",
   "metadata": {},
   "outputs": [
    {
     "name": "stdout",
     "output_type": "stream",
     "text": [
      "['a', 1, 'b', 2, 'C']\n",
      "['a', 1, 'b', 2, 'c']\n",
      "['a', 1, 'B', 2, 'C']\n",
      "['a', 1, 'B', 2, 'c']\n",
      "['A', 1, 'b', 2, 'C']\n",
      "['A', 1, 'b', 2, 'c']\n",
      "['A', 1, 'B', 2, 'C']\n",
      "['A', 1, 'B', 2, 'c']\n"
     ]
    }
   ],
   "source": [
    "permutation(arr,0)"
   ]
  },
  {
   "cell_type": "code",
   "execution_count": 167,
   "id": "0eb246e4",
   "metadata": {},
   "outputs": [],
   "source": [
    "arr= [1,3,4,5,6,7,6,5,4,3,2,-1,-4,-4,-0.3]"
   ]
  },
  {
   "cell_type": "code",
   "execution_count": 172,
   "id": "82daa766",
   "metadata": {},
   "outputs": [
    {
     "name": "stdout",
     "output_type": "stream",
     "text": [
      "4\n",
      "5\n",
      "6\n",
      "7\n",
      "7\n",
      "7\n",
      "6\n",
      "5\n",
      "4\n",
      "3\n",
      "2\n",
      "-1\n",
      "-0.3\n"
     ]
    }
   ],
   "source": [
    "i = 0\n",
    "j = 0\n",
    "k=3\n",
    "list = []\n",
    "\n",
    "while j < len(arr):\n",
    "    if j-i < k-1:\n",
    "        if len(list) > 0:\n",
    "            if list[-1] < arr[j]:\n",
    "                list = [arr[j]]\n",
    "            else:\n",
    "                list.append(arr[j])\n",
    "        else:\n",
    "            list.append(arr[j])\n",
    "\n",
    "        j += 1\n",
    "\n",
    "    elif j-i == k-1 :\n",
    "        \n",
    "        if i == 0 :\n",
    "            if len(list) > 0:\n",
    "                if list[-1] < arr[j]:\n",
    "                    list = [arr[j]]\n",
    "                else:\n",
    "                    list.append(arr[j])\n",
    "            else:\n",
    "                list.append(arr[j])\n",
    "\n",
    "            print(list[0])\n",
    "\n",
    "        else:\n",
    "            if list[0] == arr[i-1]:\n",
    "                list.pop(0)\n",
    "            if len(list) > 0:\n",
    "                if list[-1] < arr[j]:\n",
    "                    list = [arr[j]]\n",
    "                else:\n",
    "                    list.append(arr[j])\n",
    "            else:\n",
    "                list.append(arr[j])\n",
    "\n",
    "            print(list[0])\n",
    "\n",
    "\n",
    "        j += 1\n",
    "        i += 1\n",
    "\n"
   ]
  },
  {
   "cell_type": "code",
   "execution_count": 173,
   "id": "fdf530cf",
   "metadata": {},
   "outputs": [
    {
     "data": {
      "text/plain": [
       "[1, 3, 4, 5, 6, 7, 6, 5, 4, 3, 2, -1, -4, -4, -0.3]"
      ]
     },
     "execution_count": 173,
     "metadata": {},
     "output_type": "execute_result"
    }
   ],
   "source": [
    "arr"
   ]
  },
  {
   "cell_type": "code",
   "execution_count": null,
   "id": "65c97353",
   "metadata": {},
   "outputs": [],
   "source": []
  }
 ],
 "metadata": {
  "kernelspec": {
   "display_name": "Python 3",
   "language": "python",
   "name": "python3"
  },
  "language_info": {
   "codemirror_mode": {
    "name": "ipython",
    "version": 3
   },
   "file_extension": ".py",
   "mimetype": "text/x-python",
   "name": "python",
   "nbconvert_exporter": "python",
   "pygments_lexer": "ipython3",
   "version": "3.8.5"
  }
 },
 "nbformat": 4,
 "nbformat_minor": 5
}
