{
 "cells": [
  {
   "cell_type": "markdown",
   "id": "b6d02cda",
   "metadata": {},
   "source": [
    "## Sliding Window Problems\n"
   ]
  },
  {
   "cell_type": "code",
   "execution_count": 24,
   "id": "c4b54162",
   "metadata": {},
   "outputs": [],
   "source": [
    "arr = [1,12,3,-24,13,-2,-4,15,-2.6,-1.7,15,4]"
   ]
  },
  {
   "cell_type": "code",
   "execution_count": 25,
   "id": "1ad33c3d",
   "metadata": {},
   "outputs": [],
   "source": [
    "k = 3\n",
    "i = 0\n",
    "j = 0"
   ]
  },
  {
   "cell_type": "code",
   "execution_count": null,
   "id": "16f10103",
   "metadata": {},
   "outputs": [],
   "source": []
  },
  {
   "cell_type": "code",
   "execution_count": 26,
   "id": "b94c53b7",
   "metadata": {},
   "outputs": [],
   "source": [
    "curr_sum, max_sum = 0,0"
   ]
  },
  {
   "cell_type": "code",
   "execution_count": 27,
   "id": "f6922c59",
   "metadata": {},
   "outputs": [],
   "source": [
    "while j < len(arr)-1 :\n",
    "    if j-i < k-1:\n",
    "        curr_sum += arr[j] \n",
    "        max_sum = curr_sum\n",
    "        j += 1\n",
    "        \n",
    "    elif j-i == k-1 :\n",
    "        if i == 0:\n",
    "            curr_sum += arr[j]\n",
    "            max_sum = curr_sum\n",
    "            \n",
    "        else:\n",
    "            curr_sum += arr[j]-arr[i-1]\n",
    "            max_sum = max(curr_sum,max_sum)\n",
    "            \n",
    "        i += 1\n",
    "        j += 1\n",
    "    \n",
    "    "
   ]
  },
  {
   "cell_type": "code",
   "execution_count": 29,
   "id": "9f19b86a",
   "metadata": {},
   "outputs": [
    {
     "data": {
      "text/plain": [
       "16"
      ]
     },
     "execution_count": 29,
     "metadata": {},
     "output_type": "execute_result"
    }
   ],
   "source": [
    "max_sum"
   ]
  },
  {
   "cell_type": "code",
   "execution_count": 30,
   "id": "64194bfa",
   "metadata": {},
   "outputs": [],
   "source": [
    "max_sum = arr[0]\n",
    "curr_sum = 0\n",
    "for i in range(1,len(arr)):\n",
    "    curr_sum += arr[i]\n",
    "    if curr_sum<=0:\n",
    "        curr_sum = 0\n",
    "    max_sum = max(max_sum,curr_sum)\n",
    "\n",
    "    \n",
    "    \n",
    "    "
   ]
  },
  {
   "cell_type": "code",
   "execution_count": 31,
   "id": "71e4168c",
   "metadata": {},
   "outputs": [
    {
     "data": {
      "text/plain": [
       "36.7"
      ]
     },
     "execution_count": 31,
     "metadata": {},
     "output_type": "execute_result"
    }
   ],
   "source": [
    "max_sum"
   ]
  },
  {
   "cell_type": "code",
   "execution_count": 110,
   "id": "e27cd318",
   "metadata": {},
   "outputs": [],
   "source": [
    "arr = [1,-12,3,-24,13,-2,-4,15,-2.6,1.7,15,4]"
   ]
  },
  {
   "cell_type": "code",
   "execution_count": 111,
   "id": "d016a811",
   "metadata": {},
   "outputs": [],
   "source": [
    "k = 3\n",
    "i = 0\n",
    "j = 0\n",
    "\n",
    "ngvs = []"
   ]
  },
  {
   "cell_type": "code",
   "execution_count": 112,
   "id": "dd818d18",
   "metadata": {},
   "outputs": [
    {
     "name": "stdout",
     "output_type": "stream",
     "text": [
      "-12\n",
      "-24\n",
      "-2\n",
      "-4\n",
      "-2.6\n",
      "0\n"
     ]
    }
   ],
   "source": [
    "while j < len(arr) :\n",
    "    if j-i < k-1 :\n",
    "        if arr[j] < 0:\n",
    "            ngvs.append(arr[j])\n",
    "        j += 1\n",
    "        \n",
    "    elif j-i == k-1 :\n",
    "        if i == 0:\n",
    "            if arr[j] < 0:\n",
    "                ngvs.append(arr[j])\n",
    "                \n",
    "            if len(ngvs) == 0:\n",
    "                print(0)\n",
    "            else:\n",
    "                x= ngvs[0]\n",
    "                ngvs = ngvs[1:]\n",
    "                print(x)\n",
    "\n",
    "                \n",
    "                \n",
    "        else:\n",
    "            \n",
    "#             print(\"Arr j is: \", arr[j])\n",
    "            \n",
    "            if arr[j]<0:\n",
    "                ngvs.append(arr[j])\n",
    "                \n",
    "            if len(ngvs) == 0:\n",
    "                print(0)\n",
    "            \n",
    "            else:\n",
    "                if arr[i-1] == ngvs[0]:\n",
    "                    ngvs = ngvs[1:]\n",
    "                    print(arr[i-1])\n",
    "\n",
    "                    \n",
    "        j += 1\n",
    "        i += 1\n",
    "        \n",
    "    \n",
    "if ngvs == []:\n",
    "    print(0)\n",
    "\n",
    "else:\n",
    "    print(ngvs[0])\n",
    "\n",
    "\n",
    "\n",
    "    "
   ]
  },
  {
   "cell_type": "code",
   "execution_count": 76,
   "id": "c64d4980",
   "metadata": {},
   "outputs": [
    {
     "data": {
      "text/plain": [
       "10"
      ]
     },
     "execution_count": 76,
     "metadata": {},
     "output_type": "execute_result"
    }
   ],
   "source": [
    "i"
   ]
  },
  {
   "cell_type": "code",
   "execution_count": 77,
   "id": "7b260bfb",
   "metadata": {},
   "outputs": [
    {
     "data": {
      "text/plain": [
       "12"
      ]
     },
     "execution_count": 77,
     "metadata": {},
     "output_type": "execute_result"
    }
   ],
   "source": [
    "j"
   ]
  },
  {
   "cell_type": "code",
   "execution_count": 153,
   "id": "354b424c",
   "metadata": {},
   "outputs": [],
   "source": [
    "arr = \"abbaababbaabbaabbabbaaab\"\n",
    "pattern = \"aaab\"\n",
    "mp= {}\n",
    "for p in pattern:\n",
    "    if p in mp.keys():\n",
    "        mp[p] += 1\n",
    "    else:\n",
    "        mp[p] =1\n",
    "keys = mp.keys()\n",
    "count = len(mp.keys()) \n",
    "\n",
    "i=0\n",
    "j=0\n",
    "k=4"
   ]
  },
  {
   "cell_type": "code",
   "execution_count": 154,
   "id": "ec0f7798",
   "metadata": {},
   "outputs": [
    {
     "data": {
      "text/plain": [
       "dict_keys(['a', 'b'])"
      ]
     },
     "execution_count": 154,
     "metadata": {},
     "output_type": "execute_result"
    }
   ],
   "source": [
    "keys"
   ]
  },
  {
   "cell_type": "code",
   "execution_count": 155,
   "id": "e104f41c",
   "metadata": {},
   "outputs": [
    {
     "data": {
      "text/plain": [
       "2"
      ]
     },
     "execution_count": 155,
     "metadata": {},
     "output_type": "execute_result"
    }
   ],
   "source": [
    "count"
   ]
  },
  {
   "cell_type": "code",
   "execution_count": 156,
   "id": "2821615d",
   "metadata": {},
   "outputs": [],
   "source": [
    "anagrams = 0"
   ]
  },
  {
   "cell_type": "code",
   "execution_count": 157,
   "id": "90237ca9",
   "metadata": {},
   "outputs": [
    {
     "name": "stdout",
     "output_type": "stream",
     "text": [
      "2 {'a': 3, 'b': 1}\n",
      "2 {'a': 2, 'b': 1}\n",
      "1 {'a': 2, 'b': 0}\n",
      "1 {'a': 2, 'b': -1}\n",
      "1 {'a': 1, 'b': -1}\n",
      "1 {'a': 1, 'b': -1}\n",
      "1 {'a': 1, 'b': -1}\n",
      "0 {'a': 0, 'b': 0}\n",
      "1 {'a': 1, 'b': -1}\n",
      "1 {'a': 2, 'b': -2}\n",
      "1 {'a': 1, 'b': -1}\n",
      "1 {'a': 1, 'b': -1}\n",
      "1 {'a': 1, 'b': -1}\n",
      "1 {'a': 1, 'b': -1}\n",
      "1 {'a': 1, 'b': -1}\n",
      "1 {'a': 1, 'b': -1}\n",
      "1 {'a': 1, 'b': -1}\n",
      "1 {'a': 1, 'b': -1}\n",
      "1 {'a': 1, 'b': -1}\n",
      "1 {'a': 2, 'b': -2}\n",
      "1 {'a': 2, 'b': -2}\n",
      "1 {'a': 1, 'b': -1}\n",
      "1 {'a': 1, 'b': -1}\n",
      "0 {'a': 0, 'b': 0}\n"
     ]
    }
   ],
   "source": [
    "while j< len(arr):\n",
    "    if j-i < k-1:\n",
    "        print(count, mp)\n",
    "        if arr[j] in mp:\n",
    "            mp[arr[j]] -= 1\n",
    "            if mp[arr[j]]==0:\n",
    "                count -= 1\n",
    "        j += 1\n",
    "        \n",
    "    elif j-i == k-1:\n",
    "        if i==0:\n",
    "            print(count, mp)\n",
    "            if arr[j] in mp:\n",
    "                mp[arr[j]] -= 1\n",
    "                if mp[arr[j]] ==0:\n",
    "                    count -= 1\n",
    "            if count == 0:\n",
    "                anagrams += 1\n",
    "                \n",
    "        else:\n",
    "            print(count, mp)\n",
    "            if arr[j] in mp:\n",
    "                mp[arr[j]] -= 1\n",
    "                if mp[arr[j]]==0:\n",
    "                    count -= 1\n",
    "            if arr[i-1] in mp:\n",
    "                mp[arr[i-1]] += 1\n",
    "                if mp[arr[i-1]]==1:\n",
    "                    count += 1\n",
    "            if count == 0:\n",
    "                anagrams += 1\n",
    "        \n",
    "        \n",
    "        i += 1\n",
    "        j += 1\n",
    "       "
   ]
  },
  {
   "cell_type": "code",
   "execution_count": 158,
   "id": "dd327b0f",
   "metadata": {},
   "outputs": [
    {
     "data": {
      "text/plain": [
       "3"
      ]
     },
     "execution_count": 158,
     "metadata": {},
     "output_type": "execute_result"
    }
   ],
   "source": [
    "anagrams"
   ]
  },
  {
   "cell_type": "code",
   "execution_count": 54,
   "id": "7c7f423b",
   "metadata": {},
   "outputs": [],
   "source": [
    "arr = [1,12,3,-24,13,-2,-4,15,-2.6,-1.7,17,4]\n",
    "k = 3\n",
    "i = 0\n",
    "j = 0"
   ]
  },
  {
   "cell_type": "code",
   "execution_count": 55,
   "id": "ea0647e0",
   "metadata": {},
   "outputs": [],
   "source": [
    "list1 = []"
   ]
  },
  {
   "cell_type": "code",
   "execution_count": 56,
   "id": "38b4555e",
   "metadata": {},
   "outputs": [
    {
     "name": "stdout",
     "output_type": "stream",
     "text": [
      "12\n",
      "12\n",
      "13\n",
      "13\n",
      "13\n",
      "15\n",
      "15\n",
      "15\n",
      "17\n",
      "17\n"
     ]
    }
   ],
   "source": [
    "while j < len(arr):\n",
    "    \n",
    "    if j-i < k-1:\n",
    "    \n",
    "        if len(list1) != 0:\n",
    "            \n",
    "            if arr[j] > list1[0]:\n",
    "                \n",
    "                list1 = [arr[j]]\n",
    "            else:\n",
    "                \n",
    "                list1.append(arr[j])\n",
    "                \n",
    "        else:\n",
    "            \n",
    "            list1.append(arr[j])\n",
    "            \n",
    "        j += 1\n",
    "            \n",
    "    \n",
    "    elif j-i == k-1 :\n",
    "        \n",
    "        if i == 0:\n",
    "            \n",
    "            if len(list1 ) >= 0:\n",
    "                print(list1[0])\n",
    "        \n",
    "        else:\n",
    "            \n",
    "            if len(list1) > 0:\n",
    "                \n",
    "                if arr[j] > list1[0]:\n",
    "                    \n",
    "                    list1 = [(arr[j])]\n",
    "                \n",
    "                else:\n",
    "                    \n",
    "                    list1.append(arr[j])\n",
    "                    \n",
    "                print(list1[0])\n",
    "                    \n",
    "                    \n",
    "            else:\n",
    "                \n",
    "                list1.append(arr[j])\n",
    "            \n",
    "        i += 1\n",
    "        j += 1\n",
    "        \n",
    "        "
   ]
  },
  {
   "cell_type": "code",
   "execution_count": null,
   "id": "ff9f7100",
   "metadata": {},
   "outputs": [],
   "source": [
    "arr[j]"
   ]
  },
  {
   "cell_type": "code",
   "execution_count": null,
   "id": "281b6220",
   "metadata": {},
   "outputs": [],
   "source": [
    "list[0]"
   ]
  },
  {
   "cell_type": "code",
   "execution_count": null,
   "id": "dc068b75",
   "metadata": {},
   "outputs": [],
   "source": []
  },
  {
   "cell_type": "code",
   "execution_count": null,
   "id": "4edfe5d0",
   "metadata": {},
   "outputs": [],
   "source": []
  }
 ],
 "metadata": {
  "kernelspec": {
   "display_name": "Python 3",
   "language": "python",
   "name": "python3"
  },
  "language_info": {
   "codemirror_mode": {
    "name": "ipython",
    "version": 3
   },
   "file_extension": ".py",
   "mimetype": "text/x-python",
   "name": "python",
   "nbconvert_exporter": "python",
   "pygments_lexer": "ipython3",
   "version": "3.8.5"
  }
 },
 "nbformat": 4,
 "nbformat_minor": 5
}
