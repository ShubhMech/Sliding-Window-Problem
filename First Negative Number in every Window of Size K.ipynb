{
 "cells": [
  {
   "cell_type": "markdown",
   "id": "d720aaf8",
   "metadata": {},
   "source": [
    "## Sliding Window Problems\n"
   ]
  },
  {
   "cell_type": "code",
   "execution_count": 24,
   "id": "3a42fe6f",
   "metadata": {},
   "outputs": [],
   "source": [
    "arr = [1,12,3,-24,13,-2,-4,15,-2.6,-1.7,15,4]"
   ]
  },
  {
   "cell_type": "code",
   "execution_count": 25,
   "id": "d2f38a7e",
   "metadata": {},
   "outputs": [],
   "source": [
    "k = 3\n",
    "i = 0\n",
    "j = 0"
   ]
  },
  {
   "cell_type": "code",
   "execution_count": null,
   "id": "5eeff3cc",
   "metadata": {},
   "outputs": [],
   "source": []
  },
  {
   "cell_type": "code",
   "execution_count": 26,
   "id": "01e8e106",
   "metadata": {},
   "outputs": [],
   "source": [
    "curr_sum, max_sum = 0,0"
   ]
  },
  {
   "cell_type": "code",
   "execution_count": 27,
   "id": "422d347f",
   "metadata": {},
   "outputs": [],
   "source": [
    "while j < len(arr)-1 :\n",
    "    if j-i < k-1:\n",
    "        curr_sum += arr[j] \n",
    "        max_sum = curr_sum\n",
    "        j += 1\n",
    "        \n",
    "    elif j-i == k-1 :\n",
    "        if i == 0:\n",
    "            curr_sum += arr[j]\n",
    "            max_sum = curr_sum\n",
    "            \n",
    "        else:\n",
    "            curr_sum += arr[j]-arr[i-1]\n",
    "            max_sum = max(curr_sum,max_sum)\n",
    "            \n",
    "        i += 1\n",
    "        j += 1\n",
    "    \n",
    "    "
   ]
  },
  {
   "cell_type": "code",
   "execution_count": 29,
   "id": "5e64d00e",
   "metadata": {},
   "outputs": [
    {
     "data": {
      "text/plain": [
       "16"
      ]
     },
     "execution_count": 29,
     "metadata": {},
     "output_type": "execute_result"
    }
   ],
   "source": [
    "max_sum"
   ]
  },
  {
   "cell_type": "code",
   "execution_count": 30,
   "id": "e75f6c1a",
   "metadata": {},
   "outputs": [],
   "source": [
    "max_sum = arr[0]\n",
    "curr_sum = 0\n",
    "for i in range(1,len(arr)):\n",
    "    curr_sum += arr[i]\n",
    "    if curr_sum<=0:\n",
    "        curr_sum = 0\n",
    "    max_sum = max(max_sum,curr_sum)\n",
    "\n",
    "    \n",
    "    \n",
    "    "
   ]
  },
  {
   "cell_type": "code",
   "execution_count": 31,
   "id": "d7ce6e55",
   "metadata": {},
   "outputs": [
    {
     "data": {
      "text/plain": [
       "36.7"
      ]
     },
     "execution_count": 31,
     "metadata": {},
     "output_type": "execute_result"
    }
   ],
   "source": [
    "max_sum"
   ]
  },
  {
   "cell_type": "code",
   "execution_count": 61,
   "id": "c69f3d19",
   "metadata": {},
   "outputs": [],
   "source": [
    "arr = [1,12,3,-24,13,-2,-4,15,-2.6,-1.7,15,4]"
   ]
  },
  {
   "cell_type": "code",
   "execution_count": 62,
   "id": "17435d1b",
   "metadata": {},
   "outputs": [],
   "source": [
    "k = 3\n",
    "i = 0\n",
    "j = 0\n",
    "\n",
    "ngvs = []"
   ]
  },
  {
   "cell_type": "code",
   "execution_count": 63,
   "id": "e1b1bd3a",
   "metadata": {},
   "outputs": [
    {
     "name": "stdout",
     "output_type": "stream",
     "text": [
      "0\n",
      "-24\n",
      "-2\n",
      "-4\n",
      "-2.6\n"
     ]
    }
   ],
   "source": [
    "while j < len(arr) :\n",
    "    if j-i < k-1 :\n",
    "        if arr[j] < 0:\n",
    "            ngvs.append(arr[j])\n",
    "        j += 1\n",
    "        \n",
    "    elif j-i == k-1 :\n",
    "        if i == 0:\n",
    "            if arr[j] < 0:\n",
    "                ngvs.append(arr[j])\n",
    "                \n",
    "            if len(ngvs) == 0:\n",
    "                print(0)\n",
    "        else:\n",
    "            \n",
    "            if arr[j]<0:\n",
    "                ngvs.append(arr[j])\n",
    "                \n",
    "            if len(ngvs) == 0:\n",
    "                print(0)\n",
    "            \n",
    "            else:\n",
    "                if arr[i-1] == ngvs[0]:\n",
    "                    ngvs = ngvs[1:]\n",
    "                    print(arr[i-1])\n",
    "\n",
    "\n",
    "                \n",
    "        j += 1\n",
    "        i += 1\n",
    "            \n",
    "    "
   ]
  },
  {
   "cell_type": "code",
   "execution_count": 58,
   "id": "470494db",
   "metadata": {},
   "outputs": [
    {
     "data": {
      "text/plain": [
       "10"
      ]
     },
     "execution_count": 58,
     "metadata": {},
     "output_type": "execute_result"
    }
   ],
   "source": [
    "i"
   ]
  },
  {
   "cell_type": "code",
   "execution_count": 44,
   "id": "fe989ae8",
   "metadata": {},
   "outputs": [
    {
     "data": {
      "text/plain": [
       "0"
      ]
     },
     "execution_count": 44,
     "metadata": {},
     "output_type": "execute_result"
    }
   ],
   "source": [
    "j"
   ]
  },
  {
   "cell_type": "code",
   "execution_count": null,
   "id": "7c0fbf8e",
   "metadata": {},
   "outputs": [],
   "source": []
  }
 ],
 "metadata": {
  "kernelspec": {
   "display_name": "Python 3",
   "language": "python",
   "name": "python3"
  },
  "language_info": {
   "codemirror_mode": {
    "name": "ipython",
    "version": 3
   },
   "file_extension": ".py",
   "mimetype": "text/x-python",
   "name": "python",
   "nbconvert_exporter": "python",
   "pygments_lexer": "ipython3",
   "version": "3.8.5"
  }
 },
 "nbformat": 4,
 "nbformat_minor": 5
}
