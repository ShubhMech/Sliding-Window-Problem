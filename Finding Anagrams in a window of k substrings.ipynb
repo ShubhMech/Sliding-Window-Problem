{
 "cells": [
  {
   "cell_type": "markdown",
   "id": "434ed6e8",
   "metadata": {},
   "source": [
    "## Sliding Window Problems\n"
   ]
  },
  {
   "cell_type": "code",
   "execution_count": 24,
   "id": "57febd23",
   "metadata": {},
   "outputs": [],
   "source": [
    "arr = [1,12,3,-24,13,-2,-4,15,-2.6,-1.7,15,4]"
   ]
  },
  {
   "cell_type": "code",
   "execution_count": 25,
   "id": "462e1539",
   "metadata": {},
   "outputs": [],
   "source": [
    "k = 3\n",
    "i = 0\n",
    "j = 0"
   ]
  },
  {
   "cell_type": "code",
   "execution_count": null,
   "id": "3413f64f",
   "metadata": {},
   "outputs": [],
   "source": []
  },
  {
   "cell_type": "code",
   "execution_count": 26,
   "id": "b1bb6abb",
   "metadata": {},
   "outputs": [],
   "source": [
    "curr_sum, max_sum = 0,0"
   ]
  },
  {
   "cell_type": "code",
   "execution_count": 27,
   "id": "16ed84ba",
   "metadata": {},
   "outputs": [],
   "source": [
    "while j < len(arr)-1 :\n",
    "    if j-i < k-1:\n",
    "        curr_sum += arr[j] \n",
    "        max_sum = curr_sum\n",
    "        j += 1\n",
    "        \n",
    "    elif j-i == k-1 :\n",
    "        if i == 0:\n",
    "            curr_sum += arr[j]\n",
    "            max_sum = curr_sum\n",
    "            \n",
    "        else:\n",
    "            curr_sum += arr[j]-arr[i-1]\n",
    "            max_sum = max(curr_sum,max_sum)\n",
    "            \n",
    "        i += 1\n",
    "        j += 1\n",
    "    \n",
    "    "
   ]
  },
  {
   "cell_type": "code",
   "execution_count": 29,
   "id": "0b36b275",
   "metadata": {},
   "outputs": [
    {
     "data": {
      "text/plain": [
       "16"
      ]
     },
     "execution_count": 29,
     "metadata": {},
     "output_type": "execute_result"
    }
   ],
   "source": [
    "max_sum"
   ]
  },
  {
   "cell_type": "code",
   "execution_count": 30,
   "id": "a5d6009d",
   "metadata": {},
   "outputs": [],
   "source": [
    "max_sum = arr[0]\n",
    "curr_sum = 0\n",
    "for i in range(1,len(arr)):\n",
    "    curr_sum += arr[i]\n",
    "    if curr_sum<=0:\n",
    "        curr_sum = 0\n",
    "    max_sum = max(max_sum,curr_sum)\n",
    "\n",
    "    \n",
    "    \n",
    "    "
   ]
  },
  {
   "cell_type": "code",
   "execution_count": 31,
   "id": "c0cdc1f8",
   "metadata": {},
   "outputs": [
    {
     "data": {
      "text/plain": [
       "36.7"
      ]
     },
     "execution_count": 31,
     "metadata": {},
     "output_type": "execute_result"
    }
   ],
   "source": [
    "max_sum"
   ]
  },
  {
   "cell_type": "code",
   "execution_count": 110,
   "id": "92fccdc9",
   "metadata": {},
   "outputs": [],
   "source": [
    "arr = [1,-12,3,-24,13,-2,-4,15,-2.6,1.7,15,4]"
   ]
  },
  {
   "cell_type": "code",
   "execution_count": 111,
   "id": "13d3d49c",
   "metadata": {},
   "outputs": [],
   "source": [
    "k = 3\n",
    "i = 0\n",
    "j = 0\n",
    "\n",
    "ngvs = []"
   ]
  },
  {
   "cell_type": "code",
   "execution_count": 112,
   "id": "08b56aaa",
   "metadata": {},
   "outputs": [
    {
     "name": "stdout",
     "output_type": "stream",
     "text": [
      "-12\n",
      "-24\n",
      "-2\n",
      "-4\n",
      "-2.6\n",
      "0\n"
     ]
    }
   ],
   "source": [
    "while j < len(arr) :\n",
    "    if j-i < k-1 :\n",
    "        if arr[j] < 0:\n",
    "            ngvs.append(arr[j])\n",
    "        j += 1\n",
    "        \n",
    "    elif j-i == k-1 :\n",
    "        if i == 0:\n",
    "            if arr[j] < 0:\n",
    "                ngvs.append(arr[j])\n",
    "                \n",
    "            if len(ngvs) == 0:\n",
    "                print(0)\n",
    "            else:\n",
    "                x= ngvs[0]\n",
    "                ngvs = ngvs[1:]\n",
    "                print(x)\n",
    "\n",
    "                \n",
    "                \n",
    "        else:\n",
    "            \n",
    "#             print(\"Arr j is: \", arr[j])\n",
    "            \n",
    "            if arr[j]<0:\n",
    "                ngvs.append(arr[j])\n",
    "                \n",
    "            if len(ngvs) == 0:\n",
    "                print(0)\n",
    "            \n",
    "            else:\n",
    "                if arr[i-1] == ngvs[0]:\n",
    "                    ngvs = ngvs[1:]\n",
    "                    print(arr[i-1])\n",
    "\n",
    "                    \n",
    "        j += 1\n",
    "        i += 1\n",
    "        \n",
    "    \n",
    "if ngvs == []:\n",
    "    print(0)\n",
    "\n",
    "else:\n",
    "    print(ngvs[0])\n",
    "\n",
    "\n",
    "\n",
    "    "
   ]
  },
  {
   "cell_type": "code",
   "execution_count": 76,
   "id": "db2dc29a",
   "metadata": {},
   "outputs": [
    {
     "data": {
      "text/plain": [
       "10"
      ]
     },
     "execution_count": 76,
     "metadata": {},
     "output_type": "execute_result"
    }
   ],
   "source": [
    "i"
   ]
  },
  {
   "cell_type": "code",
   "execution_count": 77,
   "id": "806db5ba",
   "metadata": {},
   "outputs": [
    {
     "data": {
      "text/plain": [
       "12"
      ]
     },
     "execution_count": 77,
     "metadata": {},
     "output_type": "execute_result"
    }
   ],
   "source": [
    "j"
   ]
  },
  {
   "cell_type": "code",
   "execution_count": 147,
   "id": "19d8fecf",
   "metadata": {},
   "outputs": [],
   "source": [
    "arr = \"abbaababbaabbaabbabbaaab\"\n",
    "pattern = \"aabb\"\n",
    "mp= {}\n",
    "for p in pattern:\n",
    "    if p in mp.keys():\n",
    "        mp[p] += 1\n",
    "    else:\n",
    "        mp[p] =1\n",
    "keys = mp.keys()\n",
    "count = len(mp.keys()) \n",
    "\n",
    "i=0\n",
    "j=0\n",
    "k=4"
   ]
  },
  {
   "cell_type": "code",
   "execution_count": 148,
   "id": "aad60acc",
   "metadata": {},
   "outputs": [
    {
     "data": {
      "text/plain": [
       "dict_keys(['a', 'b'])"
      ]
     },
     "execution_count": 148,
     "metadata": {},
     "output_type": "execute_result"
    }
   ],
   "source": [
    "keys"
   ]
  },
  {
   "cell_type": "code",
   "execution_count": 149,
   "id": "9a10adb5",
   "metadata": {},
   "outputs": [
    {
     "data": {
      "text/plain": [
       "2"
      ]
     },
     "execution_count": 149,
     "metadata": {},
     "output_type": "execute_result"
    }
   ],
   "source": [
    "count"
   ]
  },
  {
   "cell_type": "code",
   "execution_count": 150,
   "id": "8a77c991",
   "metadata": {},
   "outputs": [],
   "source": [
    "anagrams = 0"
   ]
  },
  {
   "cell_type": "code",
   "execution_count": 151,
   "id": "1274dd65",
   "metadata": {},
   "outputs": [
    {
     "name": "stdout",
     "output_type": "stream",
     "text": [
      "2 {'a': 2, 'b': 2}\n",
      "2 {'a': 1, 'b': 2}\n",
      "2 {'a': 1, 'b': 1}\n",
      "1 {'a': 1, 'b': 0}\n",
      "0 {'a': 0, 'b': 0}\n",
      "0 {'a': 0, 'b': 0}\n",
      "0 {'a': 0, 'b': 0}\n",
      "1 {'a': -1, 'b': 1}\n",
      "0 {'a': 0, 'b': 0}\n",
      "1 {'a': 1, 'b': -1}\n",
      "0 {'a': 0, 'b': 0}\n",
      "0 {'a': 0, 'b': 0}\n",
      "0 {'a': 0, 'b': 0}\n",
      "0 {'a': 0, 'b': 0}\n",
      "0 {'a': 0, 'b': 0}\n",
      "0 {'a': 0, 'b': 0}\n",
      "0 {'a': 0, 'b': 0}\n",
      "0 {'a': 0, 'b': 0}\n",
      "0 {'a': 0, 'b': 0}\n",
      "1 {'a': 1, 'b': -1}\n",
      "1 {'a': 1, 'b': -1}\n",
      "0 {'a': 0, 'b': 0}\n",
      "0 {'a': 0, 'b': 0}\n",
      "1 {'a': -1, 'b': 1}\n"
     ]
    }
   ],
   "source": [
    "while j< len(arr):\n",
    "    if j-i < k-1:\n",
    "        print(count, mp)\n",
    "        if arr[j] in mp:\n",
    "            mp[arr[j]] -= 1\n",
    "            if mp[arr[j]]==0:\n",
    "                count -= 1\n",
    "        j += 1\n",
    "        \n",
    "    elif j-i == k-1:\n",
    "        if i==0:\n",
    "            print(count, mp)\n",
    "            if arr[j] in mp:\n",
    "                mp[arr[j]] -= 1\n",
    "                if mp[arr[j]] ==0:\n",
    "                    count -= 1\n",
    "            if count == 0:\n",
    "                anagrams += 1\n",
    "                \n",
    "        else:\n",
    "            print(count, mp)\n",
    "            if arr[j] in mp:\n",
    "                mp[arr[j]] -= 1\n",
    "                if mp[arr[j]]==0:\n",
    "                    count -= 1\n",
    "            if arr[i-1] in mp:\n",
    "                mp[arr[i-1]] += 1\n",
    "                if mp[arr[i-1]]==1:\n",
    "                    count += 1\n",
    "            if count == 0:\n",
    "                anagrams += 1\n",
    "        \n",
    "        \n",
    "        i += 1\n",
    "        j += 1\n",
    "       "
   ]
  },
  {
   "cell_type": "code",
   "execution_count": 152,
   "id": "82d81748",
   "metadata": {},
   "outputs": [
    {
     "data": {
      "text/plain": [
       "15"
      ]
     },
     "execution_count": 152,
     "metadata": {},
     "output_type": "execute_result"
    }
   ],
   "source": [
    "anagrams"
   ]
  },
  {
   "cell_type": "code",
   "execution_count": null,
   "id": "f3c1189c",
   "metadata": {},
   "outputs": [],
   "source": []
  }
 ],
 "metadata": {
  "kernelspec": {
   "display_name": "Python 3",
   "language": "python",
   "name": "python3"
  },
  "language_info": {
   "codemirror_mode": {
    "name": "ipython",
    "version": 3
   },
   "file_extension": ".py",
   "mimetype": "text/x-python",
   "name": "python",
   "nbconvert_exporter": "python",
   "pygments_lexer": "ipython3",
   "version": "3.8.5"
  }
 },
 "nbformat": 4,
 "nbformat_minor": 5
}
